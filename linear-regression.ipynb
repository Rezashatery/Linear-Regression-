{
 "cells": [
  {
   "cell_type": "markdown",
   "metadata": {},
   "source": [
    "\n",
    "# Linear Regression Example\n",
    "The example below uses a [marketing](https://scikit-learn.org/stable/datasets/toy_dataset.html) dataset,\n",
    "in order to illustrate a linear regression activity.\n",
    "\n",
    "Workflow:\n",
    "\n"
   ]
  },
  {
   "cell_type": "markdown",
   "metadata": {},
   "source": [
    "1. Second experiment: compute the regression considering all the predicting variables \n",
    "    - Repeat the steps \n",
    "1. Third experiment:  \n",
    "    - Fit the tree using the default hyperparameters, in order to find the \n",
    "    maximum depth of the unconstrained tree\n",
    "    - Use *cross-validation* to find the optimal *maximum depth* of the tree\n",
    "    - Fit the tree with the optmal `max_depth`\n",
    "    - Predict and show the *root mean squared error*\n",
    "\n",
    "1. Fourth experiment: use the RandomForestRegressor"
   ]
  },
  {
   "cell_type": "markdown",
   "metadata": {},
   "source": [
    "1. Preparation\n",
    "    1. Load the dataset from a `.csv` file and show a short description\n",
    "    1. Show the two dimensional scatter plots for all the predicting variables with respect to the target\n",
    "    1. Split the data into *predicting variables* `X` and *target* `y`\n",
    "        1. here we set the `random_state` variable to make the experiment *repeatable* \n",
    "1. First experiment: compute the regression on a single predicting variable\n",
    "    1. Consider a reduced dataset containing the chosen variable and the target\n",
    "    1. Fit the `LinearRegression` estimator on the training set\n",
    "    1. Show the statistical significance of the fitted model\n",
    "    1. Predict the target for the test set using the *fitted* estimator\n",
    "    1. Compute the regression coefficients and the quality measures: *Root Mean Squared Error (RMSE)* and *coefficient of determination (r2)*\n",
    "1. Second experiment: compute the regression considering all the predicting variables\n",
    "    1. Repeat the steps \n",
    "1. Third experiment: use the `DecisionTreeRegressor` with the entire dataset\n",
    "    1. Fit the tree using the default hyperparameters, in order to find the \n",
    "    maximum depth of the unconstrained tree\n",
    "    1. Use *cross-validation* to find the optimal *maximum depth* of the tree\n",
    "    1. Fit the tree with the optmal `max_depth`\n",
    "    1. Predict and show the *root mean squared error*\n",
    "1. Fourth experiment: use the `RandomForestRegressor`\n",
    "    \n"
   ]
  },
  {
   "cell_type": "code",
   "execution_count": 1,
   "metadata": {},
   "outputs": [],
   "source": [
    "# Code source: Claudio Sartori \n",
    "# License: BSD 3 clause\n",
    "\n",
    "import matplotlib.pyplot as plt\n",
    "import numpy as np\n",
    "import scipy.stats\n",
    "from sklearn import datasets, linear_model\n",
    "from sklearn.metrics import mean_squared_error, r2_score\n",
    "import pandas as pd\n",
    "random_state = 94922767 # this will be used to guarantee the repeatability of the experiment"
   ]
  },
  {
   "cell_type": "markdown",
   "metadata": {},
   "source": [
    "## Load the dataset from a `.xlsx` file and show a short description"
   ]
  },
  {
   "cell_type": "code",
   "execution_count": 2,
   "metadata": {},
   "outputs": [],
   "source": [
    "# The file must be available in the same directory, \n",
    "# or uploaded in the Colab environment \n",
    "# in the execution of the previous cell\n",
    "data_fn = 'FoodUK2014.xlsx'\n",
    "df0 = pd.read_excel(data_fn)"
   ]
  },
  {
   "cell_type": "markdown",
   "metadata": {},
   "source": [
    "## Data Exploration and preparation"
   ]
  },
  {
   "cell_type": "markdown",
   "metadata": {},
   "source": [
    "##### Show a short description of the columns"
   ]
  },
  {
   "cell_type": "code",
   "execution_count": 3,
   "metadata": {},
   "outputs": [
    {
     "data": {
      "text/html": [
       "<div>\n",
       "<style scoped>\n",
       "    .dataframe tbody tr th:only-of-type {\n",
       "        vertical-align: middle;\n",
       "    }\n",
       "\n",
       "    .dataframe tbody tr th {\n",
       "        vertical-align: top;\n",
       "    }\n",
       "\n",
       "    .dataframe thead th {\n",
       "        text-align: right;\n",
       "    }\n",
       "</style>\n",
       "<table border=\"1\" class=\"dataframe\">\n",
       "  <thead>\n",
       "    <tr style=\"text-align: right;\">\n",
       "      <th></th>\n",
       "      <th>hhsize</th>\n",
       "      <th>quarter</th>\n",
       "      <th>adults_n</th>\n",
       "      <th>children_n</th>\n",
       "      <th>totalexp</th>\n",
       "      <th>SexHRP</th>\n",
       "      <th>month</th>\n",
       "      <th>Gorx</th>\n",
       "      <th>Year</th>\n",
       "      <th>income</th>\n",
       "      <th>AgeHRP</th>\n",
       "      <th>qmeat</th>\n",
       "      <th>qfish</th>\n",
       "      <th>qfv</th>\n",
       "      <th>xmeat</th>\n",
       "      <th>xfish</th>\n",
       "      <th>xfv</th>\n",
       "      <th>uvmeat</th>\n",
       "      <th>uvfish</th>\n",
       "      <th>uvfv</th>\n",
       "    </tr>\n",
       "  </thead>\n",
       "  <tbody>\n",
       "    <tr>\n",
       "      <th>count</th>\n",
       "      <td>5114.000000</td>\n",
       "      <td>5114</td>\n",
       "      <td>5114.000000</td>\n",
       "      <td>5114.000000</td>\n",
       "      <td>5114.000000</td>\n",
       "      <td>5114</td>\n",
       "      <td>5114</td>\n",
       "      <td>5114</td>\n",
       "      <td>5114.0</td>\n",
       "      <td>5114.000000</td>\n",
       "      <td>5114.000000</td>\n",
       "      <td>4873.000000</td>\n",
       "      <td>3542.000000</td>\n",
       "      <td>5017.000000</td>\n",
       "      <td>4873.000000</td>\n",
       "      <td>3542.000000</td>\n",
       "      <td>5017.000000</td>\n",
       "      <td>4873.000000</td>\n",
       "      <td>3542.000000</td>\n",
       "      <td>5017.000000</td>\n",
       "    </tr>\n",
       "    <tr>\n",
       "      <th>unique</th>\n",
       "      <td>NaN</td>\n",
       "      <td>4</td>\n",
       "      <td>NaN</td>\n",
       "      <td>NaN</td>\n",
       "      <td>NaN</td>\n",
       "      <td>2</td>\n",
       "      <td>12</td>\n",
       "      <td>12</td>\n",
       "      <td>NaN</td>\n",
       "      <td>NaN</td>\n",
       "      <td>NaN</td>\n",
       "      <td>NaN</td>\n",
       "      <td>NaN</td>\n",
       "      <td>NaN</td>\n",
       "      <td>NaN</td>\n",
       "      <td>NaN</td>\n",
       "      <td>NaN</td>\n",
       "      <td>NaN</td>\n",
       "      <td>NaN</td>\n",
       "      <td>NaN</td>\n",
       "    </tr>\n",
       "    <tr>\n",
       "      <th>top</th>\n",
       "      <td>NaN</td>\n",
       "      <td>April to June</td>\n",
       "      <td>NaN</td>\n",
       "      <td>NaN</td>\n",
       "      <td>NaN</td>\n",
       "      <td>Male</td>\n",
       "      <td>February</td>\n",
       "      <td>South East</td>\n",
       "      <td>NaN</td>\n",
       "      <td>NaN</td>\n",
       "      <td>NaN</td>\n",
       "      <td>NaN</td>\n",
       "      <td>NaN</td>\n",
       "      <td>NaN</td>\n",
       "      <td>NaN</td>\n",
       "      <td>NaN</td>\n",
       "      <td>NaN</td>\n",
       "      <td>NaN</td>\n",
       "      <td>NaN</td>\n",
       "      <td>NaN</td>\n",
       "    </tr>\n",
       "    <tr>\n",
       "      <th>freq</th>\n",
       "      <td>NaN</td>\n",
       "      <td>1341</td>\n",
       "      <td>NaN</td>\n",
       "      <td>NaN</td>\n",
       "      <td>NaN</td>\n",
       "      <td>3050</td>\n",
       "      <td>445</td>\n",
       "      <td>736</td>\n",
       "      <td>NaN</td>\n",
       "      <td>NaN</td>\n",
       "      <td>NaN</td>\n",
       "      <td>NaN</td>\n",
       "      <td>NaN</td>\n",
       "      <td>NaN</td>\n",
       "      <td>NaN</td>\n",
       "      <td>NaN</td>\n",
       "      <td>NaN</td>\n",
       "      <td>NaN</td>\n",
       "      <td>NaN</td>\n",
       "      <td>NaN</td>\n",
       "    </tr>\n",
       "    <tr>\n",
       "      <th>mean</th>\n",
       "      <td>2.363707</td>\n",
       "      <td>NaN</td>\n",
       "      <td>1.841807</td>\n",
       "      <td>0.521901</td>\n",
       "      <td>519.898868</td>\n",
       "      <td>NaN</td>\n",
       "      <td>NaN</td>\n",
       "      <td>NaN</td>\n",
       "      <td>2014.0</td>\n",
       "      <td>679.542002</td>\n",
       "      <td>53.802698</td>\n",
       "      <td>10.475023</td>\n",
       "      <td>2.146960</td>\n",
       "      <td>25.727801</td>\n",
       "      <td>68.108342</td>\n",
       "      <td>19.635469</td>\n",
       "      <td>58.943391</td>\n",
       "      <td>7.072523</td>\n",
       "      <td>9.934257</td>\n",
       "      <td>2.508315</td>\n",
       "    </tr>\n",
       "    <tr>\n",
       "      <th>std</th>\n",
       "      <td>1.244704</td>\n",
       "      <td>NaN</td>\n",
       "      <td>0.743052</td>\n",
       "      <td>0.945622</td>\n",
       "      <td>411.543093</td>\n",
       "      <td>NaN</td>\n",
       "      <td>NaN</td>\n",
       "      <td>NaN</td>\n",
       "      <td>0.0</td>\n",
       "      <td>499.596175</td>\n",
       "      <td>16.187912</td>\n",
       "      <td>8.798118</td>\n",
       "      <td>2.034353</td>\n",
       "      <td>18.371345</td>\n",
       "      <td>57.347230</td>\n",
       "      <td>18.725096</td>\n",
       "      <td>44.751694</td>\n",
       "      <td>2.931651</td>\n",
       "      <td>5.485175</td>\n",
       "      <td>1.358023</td>\n",
       "    </tr>\n",
       "    <tr>\n",
       "      <th>min</th>\n",
       "      <td>1.000000</td>\n",
       "      <td>NaN</td>\n",
       "      <td>0.000000</td>\n",
       "      <td>0.000000</td>\n",
       "      <td>-246.916821</td>\n",
       "      <td>NaN</td>\n",
       "      <td>NaN</td>\n",
       "      <td>NaN</td>\n",
       "      <td>2014.0</td>\n",
       "      <td>0.000000</td>\n",
       "      <td>17.000000</td>\n",
       "      <td>0.086667</td>\n",
       "      <td>0.108333</td>\n",
       "      <td>0.060667</td>\n",
       "      <td>0.195000</td>\n",
       "      <td>0.000000</td>\n",
       "      <td>0.520000</td>\n",
       "      <td>0.357694</td>\n",
       "      <td>0.000000</td>\n",
       "      <td>0.159672</td>\n",
       "    </tr>\n",
       "    <tr>\n",
       "      <th>25%</th>\n",
       "      <td>1.000000</td>\n",
       "      <td>NaN</td>\n",
       "      <td>1.000000</td>\n",
       "      <td>0.000000</td>\n",
       "      <td>260.598783</td>\n",
       "      <td>NaN</td>\n",
       "      <td>NaN</td>\n",
       "      <td>NaN</td>\n",
       "      <td>2014.0</td>\n",
       "      <td>306.954000</td>\n",
       "      <td>41.000000</td>\n",
       "      <td>4.452500</td>\n",
       "      <td>0.866667</td>\n",
       "      <td>12.222167</td>\n",
       "      <td>29.141668</td>\n",
       "      <td>6.917083</td>\n",
       "      <td>27.148333</td>\n",
       "      <td>5.171614</td>\n",
       "      <td>5.979375</td>\n",
       "      <td>1.760525</td>\n",
       "    </tr>\n",
       "    <tr>\n",
       "      <th>50%</th>\n",
       "      <td>2.000000</td>\n",
       "      <td>NaN</td>\n",
       "      <td>2.000000</td>\n",
       "      <td>0.000000</td>\n",
       "      <td>426.977227</td>\n",
       "      <td>NaN</td>\n",
       "      <td>NaN</td>\n",
       "      <td>NaN</td>\n",
       "      <td>2014.0</td>\n",
       "      <td>548.086000</td>\n",
       "      <td>54.000000</td>\n",
       "      <td>8.374167</td>\n",
       "      <td>1.625000</td>\n",
       "      <td>22.245817</td>\n",
       "      <td>54.708336</td>\n",
       "      <td>13.736667</td>\n",
       "      <td>49.356667</td>\n",
       "      <td>6.575851</td>\n",
       "      <td>8.804690</td>\n",
       "      <td>2.254208</td>\n",
       "    </tr>\n",
       "    <tr>\n",
       "      <th>75%</th>\n",
       "      <td>3.000000</td>\n",
       "      <td>NaN</td>\n",
       "      <td>2.000000</td>\n",
       "      <td>1.000000</td>\n",
       "      <td>651.003763</td>\n",
       "      <td>NaN</td>\n",
       "      <td>NaN</td>\n",
       "      <td>NaN</td>\n",
       "      <td>2014.0</td>\n",
       "      <td>925.652500</td>\n",
       "      <td>67.000000</td>\n",
       "      <td>14.005333</td>\n",
       "      <td>2.816667</td>\n",
       "      <td>35.037167</td>\n",
       "      <td>90.480003</td>\n",
       "      <td>26.000000</td>\n",
       "      <td>78.281662</td>\n",
       "      <td>8.295746</td>\n",
       "      <td>12.520942</td>\n",
       "      <td>2.893561</td>\n",
       "    </tr>\n",
       "    <tr>\n",
       "      <th>max</th>\n",
       "      <td>9.000000</td>\n",
       "      <td>NaN</td>\n",
       "      <td>7.000000</td>\n",
       "      <td>7.000000</td>\n",
       "      <td>5859.877186</td>\n",
       "      <td>NaN</td>\n",
       "      <td>NaN</td>\n",
       "      <td>NaN</td>\n",
       "      <td>2014.0</td>\n",
       "      <td>2134.090000</td>\n",
       "      <td>80.000000</td>\n",
       "      <td>104.589333</td>\n",
       "      <td>41.348362</td>\n",
       "      <td>169.283829</td>\n",
       "      <td>803.465027</td>\n",
       "      <td>194.869995</td>\n",
       "      <td>480.024994</td>\n",
       "      <td>40.000000</td>\n",
       "      <td>46.315834</td>\n",
       "      <td>32.666668</td>\n",
       "    </tr>\n",
       "  </tbody>\n",
       "</table>\n",
       "</div>"
      ],
      "text/plain": [
       "             hhsize        quarter     adults_n   children_n     totalexp  \\\n",
       "count   5114.000000           5114  5114.000000  5114.000000  5114.000000   \n",
       "unique          NaN              4          NaN          NaN          NaN   \n",
       "top             NaN  April to June          NaN          NaN          NaN   \n",
       "freq            NaN           1341          NaN          NaN          NaN   \n",
       "mean       2.363707            NaN     1.841807     0.521901   519.898868   \n",
       "std        1.244704            NaN     0.743052     0.945622   411.543093   \n",
       "min        1.000000            NaN     0.000000     0.000000  -246.916821   \n",
       "25%        1.000000            NaN     1.000000     0.000000   260.598783   \n",
       "50%        2.000000            NaN     2.000000     0.000000   426.977227   \n",
       "75%        3.000000            NaN     2.000000     1.000000   651.003763   \n",
       "max        9.000000            NaN     7.000000     7.000000  5859.877186   \n",
       "\n",
       "       SexHRP     month        Gorx    Year       income       AgeHRP  \\\n",
       "count    5114      5114        5114  5114.0  5114.000000  5114.000000   \n",
       "unique      2        12          12     NaN          NaN          NaN   \n",
       "top      Male  February  South East     NaN          NaN          NaN   \n",
       "freq     3050       445         736     NaN          NaN          NaN   \n",
       "mean      NaN       NaN         NaN  2014.0   679.542002    53.802698   \n",
       "std       NaN       NaN         NaN     0.0   499.596175    16.187912   \n",
       "min       NaN       NaN         NaN  2014.0     0.000000    17.000000   \n",
       "25%       NaN       NaN         NaN  2014.0   306.954000    41.000000   \n",
       "50%       NaN       NaN         NaN  2014.0   548.086000    54.000000   \n",
       "75%       NaN       NaN         NaN  2014.0   925.652500    67.000000   \n",
       "max       NaN       NaN         NaN  2014.0  2134.090000    80.000000   \n",
       "\n",
       "              qmeat        qfish          qfv        xmeat        xfish  \\\n",
       "count   4873.000000  3542.000000  5017.000000  4873.000000  3542.000000   \n",
       "unique          NaN          NaN          NaN          NaN          NaN   \n",
       "top             NaN          NaN          NaN          NaN          NaN   \n",
       "freq            NaN          NaN          NaN          NaN          NaN   \n",
       "mean      10.475023     2.146960    25.727801    68.108342    19.635469   \n",
       "std        8.798118     2.034353    18.371345    57.347230    18.725096   \n",
       "min        0.086667     0.108333     0.060667     0.195000     0.000000   \n",
       "25%        4.452500     0.866667    12.222167    29.141668     6.917083   \n",
       "50%        8.374167     1.625000    22.245817    54.708336    13.736667   \n",
       "75%       14.005333     2.816667    35.037167    90.480003    26.000000   \n",
       "max      104.589333    41.348362   169.283829   803.465027   194.869995   \n",
       "\n",
       "                xfv       uvmeat       uvfish         uvfv  \n",
       "count   5017.000000  4873.000000  3542.000000  5017.000000  \n",
       "unique          NaN          NaN          NaN          NaN  \n",
       "top             NaN          NaN          NaN          NaN  \n",
       "freq            NaN          NaN          NaN          NaN  \n",
       "mean      58.943391     7.072523     9.934257     2.508315  \n",
       "std       44.751694     2.931651     5.485175     1.358023  \n",
       "min        0.520000     0.357694     0.000000     0.159672  \n",
       "25%       27.148333     5.171614     5.979375     1.760525  \n",
       "50%       49.356667     6.575851     8.804690     2.254208  \n",
       "75%       78.281662     8.295746    12.520942     2.893561  \n",
       "max      480.024994    40.000000    46.315834    32.666668  "
      ]
     },
     "execution_count": 3,
     "metadata": {},
     "output_type": "execute_result"
    }
   ],
   "source": [
    "df0.describe(include='all')"
   ]
  },
  {
   "cell_type": "markdown",
   "metadata": {},
   "source": [
    "##### Show the number of rows with nulls\n",
    "\n",
    "It is computed subtracting the number of rows in the dataset without nulls from the original number of rows"
   ]
  },
  {
   "cell_type": "code",
   "execution_count": 4,
   "metadata": {},
   "outputs": [
    {
     "data": {
      "text/plain": [
       "1668"
      ]
     },
     "execution_count": 4,
     "metadata": {},
     "output_type": "execute_result"
    }
   ],
   "source": [
    "df0.shape[0]-df0.dropna().shape[0]"
   ]
  },
  {
   "cell_type": "markdown",
   "metadata": {},
   "source": [
    "#### Drop rows with nulls"
   ]
  },
  {
   "cell_type": "code",
   "execution_count": 5,
   "metadata": {},
   "outputs": [
    {
     "name": "stdout",
     "output_type": "stream",
     "text": [
      "After dropping rows with nulls the dataset has 3446 rows\n"
     ]
    }
   ],
   "source": [
    "df1 = df0.dropna().copy()\n",
    "print(\"After dropping rows with nulls the dataset has {} rows\".format(df1.shape[0]))"
   ]
  },
  {
   "cell_type": "markdown",
   "metadata": {},
   "source": [
    "##### Data transormation\n",
    "- Convert the alphanumeric SexHRP into numeric 0 and 1\n",
    "    - the `sklearn` machine learning procedures work only with numeric predicting\n",
    "      attributes\n",
    "- Generate two new columns as ratio of other columns\n",
    "    - this is suggested by background information"
   ]
  },
  {
   "cell_type": "code",
   "execution_count": 6,
   "metadata": {},
   "outputs": [],
   "source": [
    "df1['SexHRP']=df1['SexHRP'].apply(lambda x: 0 if (x=='Female') else 1)\n",
    "df1['qmeat_hhsize_ratio'] = df1['qmeat']/df1['hhsize']\n",
    "df1['income_hhsize_ratio'] = df1['income']/df1['hhsize']"
   ]
  },
  {
   "cell_type": "markdown",
   "metadata": {},
   "source": [
    "##### Use only the columns that the experts consider interesting\n",
    "This is suggested by background information"
   ]
  },
  {
   "cell_type": "code",
   "execution_count": 7,
   "metadata": {},
   "outputs": [],
   "source": [
    "df = df1[['adults_n', 'children_n', 'SexHRP', 'AgeHRP'\n",
    "        , 'qmeat_hhsize_ratio', 'income_hhsize_ratio', 'uvmeat']]"
   ]
  },
  {
   "cell_type": "code",
   "execution_count": 8,
   "metadata": {},
   "outputs": [
    {
     "data": {
      "text/html": [
       "<div>\n",
       "<style scoped>\n",
       "    .dataframe tbody tr th:only-of-type {\n",
       "        vertical-align: middle;\n",
       "    }\n",
       "\n",
       "    .dataframe tbody tr th {\n",
       "        vertical-align: top;\n",
       "    }\n",
       "\n",
       "    .dataframe thead th {\n",
       "        text-align: right;\n",
       "    }\n",
       "</style>\n",
       "<table border=\"1\" class=\"dataframe\">\n",
       "  <thead>\n",
       "    <tr style=\"text-align: right;\">\n",
       "      <th></th>\n",
       "      <th>adults_n</th>\n",
       "      <th>children_n</th>\n",
       "      <th>SexHRP</th>\n",
       "      <th>AgeHRP</th>\n",
       "      <th>qmeat_hhsize_ratio</th>\n",
       "      <th>income_hhsize_ratio</th>\n",
       "      <th>uvmeat</th>\n",
       "    </tr>\n",
       "  </thead>\n",
       "  <tbody>\n",
       "    <tr>\n",
       "      <th>1</th>\n",
       "      <td>2</td>\n",
       "      <td>2</td>\n",
       "      <td>1</td>\n",
       "      <td>38</td>\n",
       "      <td>1.511250</td>\n",
       "      <td>206.130000</td>\n",
       "      <td>8.813621</td>\n",
       "    </tr>\n",
       "    <tr>\n",
       "      <th>2</th>\n",
       "      <td>2</td>\n",
       "      <td>0</td>\n",
       "      <td>1</td>\n",
       "      <td>54</td>\n",
       "      <td>5.890083</td>\n",
       "      <td>135.962500</td>\n",
       "      <td>7.965790</td>\n",
       "    </tr>\n",
       "    <tr>\n",
       "      <th>4</th>\n",
       "      <td>3</td>\n",
       "      <td>0</td>\n",
       "      <td>1</td>\n",
       "      <td>64</td>\n",
       "      <td>4.285667</td>\n",
       "      <td>165.346667</td>\n",
       "      <td>5.726323</td>\n",
       "    </tr>\n",
       "    <tr>\n",
       "      <th>5</th>\n",
       "      <td>2</td>\n",
       "      <td>2</td>\n",
       "      <td>1</td>\n",
       "      <td>70</td>\n",
       "      <td>8.968250</td>\n",
       "      <td>66.632500</td>\n",
       "      <td>8.451528</td>\n",
       "    </tr>\n",
       "    <tr>\n",
       "      <th>7</th>\n",
       "      <td>3</td>\n",
       "      <td>0</td>\n",
       "      <td>1</td>\n",
       "      <td>64</td>\n",
       "      <td>4.079111</td>\n",
       "      <td>134.393333</td>\n",
       "      <td>5.904745</td>\n",
       "    </tr>\n",
       "  </tbody>\n",
       "</table>\n",
       "</div>"
      ],
      "text/plain": [
       "   adults_n  children_n  SexHRP  AgeHRP  qmeat_hhsize_ratio  \\\n",
       "1         2           2       1      38            1.511250   \n",
       "2         2           0       1      54            5.890083   \n",
       "4         3           0       1      64            4.285667   \n",
       "5         2           2       1      70            8.968250   \n",
       "7         3           0       1      64            4.079111   \n",
       "\n",
       "   income_hhsize_ratio    uvmeat  \n",
       "1           206.130000  8.813621  \n",
       "2           135.962500  7.965790  \n",
       "4           165.346667  5.726323  \n",
       "5            66.632500  8.451528  \n",
       "7           134.393333  5.904745  "
      ]
     },
     "execution_count": 8,
     "metadata": {},
     "output_type": "execute_result"
    }
   ],
   "source": [
    "df.head()"
   ]
  },
  {
   "cell_type": "markdown",
   "metadata": {},
   "source": [
    "## Choose the target and split the data into *predicting variables* `X` and *target* `y`"
   ]
  },
  {
   "cell_type": "code",
   "execution_count": 9,
   "metadata": {},
   "outputs": [],
   "source": [
    "target = 'qmeat_hhsize_ratio'\n",
    "X = df.drop(target, axis=1)\n",
    "y = df[target]"
   ]
  },
  {
   "cell_type": "markdown",
   "metadata": {},
   "source": [
    "## Show the two dimensional scatter plots for all the predicting variables with respect to the target"
   ]
  },
  {
   "cell_type": "code",
   "execution_count": 10,
   "metadata": {},
   "outputs": [],
   "source": [
    "ncols=3\n",
    "import math\n",
    "nrows = math.ceil((df.shape[1]-1)/ncols)\n",
    "figwidth = ncols * 7\n",
    "figheigth = nrows*5"
   ]
  },
  {
   "cell_type": "code",
   "execution_count": 11,
   "metadata": {},
   "outputs": [
    {
     "data": {
      "image/png": "[encoded data removed]",
      "text/plain": [
       "<Figure size 2100x1000 with 6 Axes>"
      ]
     },
     "metadata": {},
     "output_type": "display_data"
    }
   ],
   "source": [
    "fig, axs = plt.subplots(nrows=nrows, ncols=ncols, figsize=(figwidth, figheigth),sharey=True)\n",
    "plt.subplots_adjust(hspace=0.5)\n",
    "fig.suptitle(\"Predicting variables versus target\", fontsize=18, y=0.95)\n",
    "\n",
    "for c, ax in zip(df.drop(target,axis=1).columns,axs.ravel()):\n",
    "    df.sort_values(by=c).plot.scatter(x=c,y=target\n",
    "                                    , title = '\"{}\" versus \"{}\"'.format(target,c)\n",
    "                                    , ax=ax)"
   ]
  },
  {
   "cell_type": "markdown",
   "metadata": {},
   "source": [
    "### Show the *_p-values_* of the target with respect to the variables"
   ]
  },
  {
   "cell_type": "code",
   "execution_count": 12,
   "metadata": {},
   "outputs": [
    {
     "data": {
      "text/html": [
       "<div>\n",
       "<style scoped>\n",
       "    .dataframe tbody tr th:only-of-type {\n",
       "        vertical-align: middle;\n",
       "    }\n",
       "\n",
       "    .dataframe tbody tr th {\n",
       "        vertical-align: top;\n",
       "    }\n",
       "\n",
       "    .dataframe thead th {\n",
       "        text-align: right;\n",
       "    }\n",
       "</style>\n",
       "<table border=\"1\" class=\"dataframe\">\n",
       "  <thead>\n",
       "    <tr style=\"text-align: right;\">\n",
       "      <th></th>\n",
       "      <th>Variable</th>\n",
       "      <th>p-value</th>\n",
       "    </tr>\n",
       "  </thead>\n",
       "  <tbody>\n",
       "    <tr>\n",
       "      <th>0</th>\n",
       "      <td>adults_n</td>\n",
       "      <td>1.415945e-05</td>\n",
       "    </tr>\n",
       "    <tr>\n",
       "      <th>1</th>\n",
       "      <td>children_n</td>\n",
       "      <td>1.077386e-30</td>\n",
       "    </tr>\n",
       "    <tr>\n",
       "      <th>2</th>\n",
       "      <td>SexHRP</td>\n",
       "      <td>8.429827e-02</td>\n",
       "    </tr>\n",
       "    <tr>\n",
       "      <th>3</th>\n",
       "      <td>AgeHRP</td>\n",
       "      <td>1.710126e-21</td>\n",
       "    </tr>\n",
       "    <tr>\n",
       "      <th>4</th>\n",
       "      <td>income_hhsize_ratio</td>\n",
       "      <td>1.211099e-03</td>\n",
       "    </tr>\n",
       "    <tr>\n",
       "      <th>5</th>\n",
       "      <td>uvmeat</td>\n",
       "      <td>4.789746e-52</td>\n",
       "    </tr>\n",
       "  </tbody>\n",
       "</table>\n",
       "</div>"
      ],
      "text/plain": [
       "              Variable       p-value\n",
       "0             adults_n  1.415945e-05\n",
       "1           children_n  1.077386e-30\n",
       "2               SexHRP  8.429827e-02\n",
       "3               AgeHRP  1.710126e-21\n",
       "4  income_hhsize_ratio  1.211099e-03\n",
       "5               uvmeat  4.789746e-52"
      ]
     },
     "execution_count": 12,
     "metadata": {},
     "output_type": "execute_result"
    }
   ],
   "source": [
    "from sklearn.feature_selection import f_regression\n",
    "_, p_values = f_regression(X,y)\n",
    "p_values_show = pd.DataFrame({'Variable': X.columns, 'p-value': p_values})\n",
    "p_values_show"
   ]
  },
  {
   "cell_type": "markdown",
   "metadata": {},
   "source": [
    "## Split the data into *train* and *test* and show the sizes of the two parts\n",
    "Here we set the `random_state` variable to make the experiment *repeatable*\n"
   ]
  },
  {
   "cell_type": "code",
   "execution_count": 13,
   "metadata": {},
   "outputs": [
    {
     "name": "stdout",
     "output_type": "stream",
     "text": [
      "Training set and test set have 2412 and 1034 elements respectively\n"
     ]
    }
   ],
   "source": [
    "from sklearn.model_selection import train_test_split\n",
    "X_train, X_test, y_train, y_test = train_test_split(X,y,random_state=random_state, train_size=0.7)\n",
    "print('Training set and test set have {} and {} elements respectively'.format(X_train.shape[0],X_test.shape[0]))"
   ]
  },
  {
   "cell_type": "code",
   "execution_count": 14,
   "metadata": {},
   "outputs": [
    {
     "data": {
      "text/markdown": [
       "# First experiment: Univariate regression<br/> <strong>qmeat_hhsize_ratio</strong> as a linear function of <strong>adults_n</strong> <br/>"
      ],
      "text/plain": [
       "<IPython.core.display.Markdown object>"
      ]
     },
     "execution_count": 14,
     "metadata": {},
     "output_type": "execute_result"
    }
   ],
   "source": [
    "from IPython.display import display, Markdown\n",
    "pred_var = 'adults_n'\n",
    "Markdown('# First experiment: Univariate regression<br/> <strong>{}</strong> as a linear function of <strong>{}</strong> <br/>'\\\n",
    "        .format(target,pred_var))"
   ]
  },
  {
   "cell_type": "markdown",
   "metadata": {},
   "source": [
    "### Consider a reduced dataset containing the chosen variable and the target"
   ]
  },
  {
   "cell_type": "code",
   "execution_count": 15,
   "metadata": {},
   "outputs": [],
   "source": [
    "X_train_r = X_train[pred_var].values.reshape(-1,1) # transform a series into a one-column array\n",
    "X_test_r = X_test[pred_var].values.reshape(-1,1)"
   ]
  },
  {
   "cell_type": "markdown",
   "metadata": {},
   "source": [
    "### Fit the `linear_model` estimator on the training set and predict the target for the test set using the *fitted* estimator"
   ]
  },
  {
   "cell_type": "code",
   "execution_count": 16,
   "metadata": {},
   "outputs": [],
   "source": [
    "# Create linear regression object\n",
    "linear_uni = linear_model.LinearRegression()\n",
    "# Train the model using the training set\n",
    "linear_uni.fit(X_train_r, y_train)\n",
    "# Make predictions using the test set\n",
    "y_train_pred_uni = linear_uni.predict(X_train_r)\n",
    "y_test_pred_uni = linear_uni.predict(X_test_r)"
   ]
  },
  {
   "cell_type": "markdown",
   "metadata": {},
   "source": [
    "#### Compute the regression coefficients and the quality measures\n",
    "Create a function to compute the F-statistic and p-value of the regression model"
   ]
  },
  {
   "cell_type": "code",
   "execution_count": 17,
   "metadata": {},
   "outputs": [],
   "source": [
    "# Computation of F-statistic and p-value for the regression\n",
    "# http://facweb.cs.depaul.edu/sjost/csc423/documents/f-test-reg.htm\n",
    "def f_test(y_true, y_pred, n_var, n_obs, sn=.95):\n",
    "    y_true = np.array(y_true)\n",
    "    y_pred = np.array(y_pred)\n",
    "    n = n_obs\n",
    "    p = n_var+1 # number of regression parameters (coefficients + intercept)\n",
    "    y_true_m = np.mean(y_true)\n",
    "    SSM = np.sum((y_pred-y_true_m)**2)\n",
    "    SST = np.sum((y_true-y_true_m)**2)\n",
    "    SSE = np.sum((y_true-y_pred)**2)\n",
    "    DFT = n - 1\n",
    "    DFM = p - 1 # degrees of freedom for model - numerator\n",
    "    DFE = n - p # degrees of freedom for error - denominator\n",
    "    DFT = n - 1\n",
    "    MSM = SSM / DFM\n",
    "    MSE = SSE / DFE \n",
    "    MST = SST / DFT\n",
    "    F = MSM / MSE\n",
    "    p = 1-scipy.stats.f.cdf(F, DFM, DFE) #find p-value of F test statistic \n",
    "    return F, p"
   ]
  },
  {
   "cell_type": "markdown",
   "metadata": {},
   "source": [
    "#### Compute the statistical significance of the model"
   ]
  },
  {
   "cell_type": "code",
   "execution_count": 18,
   "metadata": {},
   "outputs": [
    {
     "name": "stderr",
     "output_type": "stream",
     "text": [
      "/home/pourya/anaconda3/envs/gpu_env/lib/python3.9/site-packages/sklearn/metrics/_regression.py:483: FutureWarning: 'squared' is deprecated in version 1.4 and will be removed in 1.6. To calculate the root mean squared error, use the function'root_mean_squared_error'.\n",
      "  warnings.warn(\n"
     ]
    },
    {
     "data": {
      "text/html": [
       "<div>\n",
       "<style scoped>\n",
       "    .dataframe tbody tr th:only-of-type {\n",
       "        vertical-align: middle;\n",
       "    }\n",
       "\n",
       "    .dataframe tbody tr th {\n",
       "        vertical-align: top;\n",
       "    }\n",
       "\n",
       "    .dataframe thead th {\n",
       "        text-align: right;\n",
       "    }\n",
       "</style>\n",
       "<table border=\"1\" class=\"dataframe\">\n",
       "  <thead>\n",
       "    <tr style=\"text-align: right;\">\n",
       "      <th></th>\n",
       "      <th>Univariate Linear - Value</th>\n",
       "    </tr>\n",
       "  </thead>\n",
       "  <tbody>\n",
       "    <tr>\n",
       "      <th>Intercept for \"adults_n\"</th>\n",
       "      <td>5.646984</td>\n",
       "    </tr>\n",
       "    <tr>\n",
       "      <th>Coefficient for \"adults_n\"</th>\n",
       "      <td>-0.326893</td>\n",
       "    </tr>\n",
       "    <tr>\n",
       "      <th>rmse</th>\n",
       "      <td>3.886323</td>\n",
       "    </tr>\n",
       "    <tr>\n",
       "      <th>r2</th>\n",
       "      <td>0.007595</td>\n",
       "    </tr>\n",
       "    <tr>\n",
       "      <th>f-statistic</th>\n",
       "      <td>9.841162</td>\n",
       "    </tr>\n",
       "    <tr>\n",
       "      <th>p-value</th>\n",
       "      <td>0.001727</td>\n",
       "    </tr>\n",
       "  </tbody>\n",
       "</table>\n",
       "</div>"
      ],
      "text/plain": [
       "                            Univariate Linear - Value\n",
       "Intercept for \"adults_n\"                     5.646984\n",
       "Coefficient for \"adults_n\"                  -0.326893\n",
       "rmse                                         3.886323\n",
       "r2                                           0.007595\n",
       "f-statistic                                  9.841162\n",
       "p-value                                      0.001727"
      ]
     },
     "execution_count": 18,
     "metadata": {},
     "output_type": "execute_result"
    }
   ],
   "source": [
    "#perform F-test\n",
    "f_statistic_uni, p_value_uni = f_test(y_train, y_train_pred_uni\n",
    "                                    , X_train_r.shape[1], X_train_r.shape[0])\n",
    "\n",
    "# The coefficient\n",
    "coeff_uni = linear_uni.coef_[0] # the coefficient is returned as a one-element list\n",
    "intercept_uni = linear_uni.intercept_\n",
    "# The root mean squared error\n",
    "rmse_uni = mean_squared_error(y_test, y_test_pred_uni, squared=False)\n",
    "# Coefficient of determination = 1 is perfect prediction\n",
    "r2_uni = r2_score(y_test, y_test_pred_uni)\n",
    "\n",
    "# The results are assembled in a dataframe for a compact view\n",
    "pd.DataFrame({'Univariate Linear - Value' : [intercept_uni\n",
    "                        , coeff_uni\n",
    "                        , rmse_uni\n",
    "                        , r2_uni\n",
    "                        , f_statistic_uni\n",
    "                        , p_value_uni]}\n",
    "            , index = ['Intercept for \"{}\"'.format(pred_var)\n",
    "                     , 'Coefficient for \"{}\"'.format(pred_var)\n",
    "                     , 'rmse'\n",
    "                     , 'r2'\n",
    "                     , 'f-statistic'\n",
    "                     , 'p-value'])"
   ]
  }
 ],
 "metadata": {
  "kernelspec": {
   "display_name": "gpu_env",
   "language": "python",
   "name": "python3"
  },
  "language_info": {
   "codemirror_mode": {
    "name": "ipython",
    "version": 3
   },
   "file_extension": ".py",
   "mimetype": "text/x-python",
   "name": "python",
   "nbconvert_exporter": "python",
   "pygments_lexer": "ipython3",
   "version": "3.9.19"
  }
 },
 "nbformat": 4,
 "nbformat_minor": 2
}
